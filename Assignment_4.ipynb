{
  "nbformat": 4,
  "nbformat_minor": 0,
  "metadata": {
    "colab": {
      "name": "Assignment 4.ipynb",
      "provenance": [],
      "collapsed_sections": []
    },
    "kernelspec": {
      "name": "python3",
      "display_name": "Python 3"
    },
    "language_info": {
      "name": "python"
    }
  },
  "cells": [
    {
      "cell_type": "code",
      "metadata": {
        "id": "PubZS1c_5Na7"
      },
      "source": [
        "import pandas as pd\n",
        "import seaborn as sns\n",
        "import numpy as np\n",
        "import matplotlib.pyplot as plt"
      ],
      "execution_count": null,
      "outputs": []
    },
    {
      "cell_type": "code",
      "metadata": {
        "id": "xMncBlRRNWsx"
      },
      "source": [
        "df=pd.read_csv(\"Covid-19_dataset.csv\")"
      ],
      "execution_count": null,
      "outputs": []
    },
    {
      "cell_type": "code",
      "metadata": {
        "colab": {
          "base_uri": "https://localhost:8080/",
          "height": 405
        },
        "id": "mOVBvXs8NbPU",
        "outputId": "65e1c98d-07a6-4e9a-cfb3-40b82f215366"
      },
      "source": [
        "df.head(10)"
      ],
      "execution_count": null,
      "outputs": [
        {
          "output_type": "execute_result",
          "data": {
            "text/html": [
              "<div>\n",
              "<style scoped>\n",
              "    .dataframe tbody tr th:only-of-type {\n",
              "        vertical-align: middle;\n",
              "    }\n",
              "\n",
              "    .dataframe tbody tr th {\n",
              "        vertical-align: top;\n",
              "    }\n",
              "\n",
              "    .dataframe thead th {\n",
              "        text-align: right;\n",
              "    }\n",
              "</style>\n",
              "<table border=\"1\" class=\"dataframe\">\n",
              "  <thead>\n",
              "    <tr style=\"text-align: right;\">\n",
              "      <th></th>\n",
              "      <th>Country/Region</th>\n",
              "      <th>Confirmed</th>\n",
              "      <th>Deaths</th>\n",
              "      <th>Recovered</th>\n",
              "      <th>Active</th>\n",
              "      <th>New cases</th>\n",
              "      <th>New deaths</th>\n",
              "      <th>New recovered</th>\n",
              "      <th>Deaths / 100 Cases</th>\n",
              "      <th>Recovered / 100 Cases</th>\n",
              "      <th>Deaths / 100 Recovered</th>\n",
              "      <th>Confirmed last week</th>\n",
              "      <th>1 week change</th>\n",
              "      <th>1 week % increase</th>\n",
              "      <th>WHO Region</th>\n",
              "    </tr>\n",
              "  </thead>\n",
              "  <tbody>\n",
              "    <tr>\n",
              "      <th>0</th>\n",
              "      <td>Afghanistan</td>\n",
              "      <td>36263</td>\n",
              "      <td>1269</td>\n",
              "      <td>25198</td>\n",
              "      <td>9796</td>\n",
              "      <td>106</td>\n",
              "      <td>10</td>\n",
              "      <td>18</td>\n",
              "      <td>3.50</td>\n",
              "      <td>69.49</td>\n",
              "      <td>5.04</td>\n",
              "      <td>35526</td>\n",
              "      <td>737</td>\n",
              "      <td>2.07</td>\n",
              "      <td>Eastern Mediterranean</td>\n",
              "    </tr>\n",
              "    <tr>\n",
              "      <th>1</th>\n",
              "      <td>Albania</td>\n",
              "      <td>4880</td>\n",
              "      <td>144</td>\n",
              "      <td>2745</td>\n",
              "      <td>1991</td>\n",
              "      <td>117</td>\n",
              "      <td>6</td>\n",
              "      <td>63</td>\n",
              "      <td>2.95</td>\n",
              "      <td>56.25</td>\n",
              "      <td>5.25</td>\n",
              "      <td>4171</td>\n",
              "      <td>709</td>\n",
              "      <td>17.00</td>\n",
              "      <td>Europe</td>\n",
              "    </tr>\n",
              "    <tr>\n",
              "      <th>2</th>\n",
              "      <td>Algeria</td>\n",
              "      <td>27973</td>\n",
              "      <td>1163</td>\n",
              "      <td>18837</td>\n",
              "      <td>7973</td>\n",
              "      <td>616</td>\n",
              "      <td>8</td>\n",
              "      <td>749</td>\n",
              "      <td>4.16</td>\n",
              "      <td>67.34</td>\n",
              "      <td>6.17</td>\n",
              "      <td>23691</td>\n",
              "      <td>4282</td>\n",
              "      <td>18.07</td>\n",
              "      <td>Africa</td>\n",
              "    </tr>\n",
              "    <tr>\n",
              "      <th>3</th>\n",
              "      <td>Andorra</td>\n",
              "      <td>907</td>\n",
              "      <td>52</td>\n",
              "      <td>803</td>\n",
              "      <td>52</td>\n",
              "      <td>10</td>\n",
              "      <td>0</td>\n",
              "      <td>0</td>\n",
              "      <td>5.73</td>\n",
              "      <td>88.53</td>\n",
              "      <td>6.48</td>\n",
              "      <td>884</td>\n",
              "      <td>23</td>\n",
              "      <td>2.60</td>\n",
              "      <td>Europe</td>\n",
              "    </tr>\n",
              "    <tr>\n",
              "      <th>4</th>\n",
              "      <td>Angola</td>\n",
              "      <td>950</td>\n",
              "      <td>41</td>\n",
              "      <td>242</td>\n",
              "      <td>667</td>\n",
              "      <td>18</td>\n",
              "      <td>1</td>\n",
              "      <td>0</td>\n",
              "      <td>4.32</td>\n",
              "      <td>25.47</td>\n",
              "      <td>16.94</td>\n",
              "      <td>749</td>\n",
              "      <td>201</td>\n",
              "      <td>26.84</td>\n",
              "      <td>Africa</td>\n",
              "    </tr>\n",
              "    <tr>\n",
              "      <th>5</th>\n",
              "      <td>Antigua and Barbuda</td>\n",
              "      <td>86</td>\n",
              "      <td>3</td>\n",
              "      <td>65</td>\n",
              "      <td>18</td>\n",
              "      <td>4</td>\n",
              "      <td>0</td>\n",
              "      <td>5</td>\n",
              "      <td>3.49</td>\n",
              "      <td>75.58</td>\n",
              "      <td>4.62</td>\n",
              "      <td>76</td>\n",
              "      <td>10</td>\n",
              "      <td>13.16</td>\n",
              "      <td>Americas</td>\n",
              "    </tr>\n",
              "    <tr>\n",
              "      <th>6</th>\n",
              "      <td>Argentina</td>\n",
              "      <td>167416</td>\n",
              "      <td>3059</td>\n",
              "      <td>72575</td>\n",
              "      <td>91782</td>\n",
              "      <td>4890</td>\n",
              "      <td>120</td>\n",
              "      <td>2057</td>\n",
              "      <td>1.83</td>\n",
              "      <td>43.35</td>\n",
              "      <td>4.21</td>\n",
              "      <td>130774</td>\n",
              "      <td>36642</td>\n",
              "      <td>28.02</td>\n",
              "      <td>Americas</td>\n",
              "    </tr>\n",
              "    <tr>\n",
              "      <th>7</th>\n",
              "      <td>Armenia</td>\n",
              "      <td>37390</td>\n",
              "      <td>711</td>\n",
              "      <td>26665</td>\n",
              "      <td>10014</td>\n",
              "      <td>73</td>\n",
              "      <td>6</td>\n",
              "      <td>187</td>\n",
              "      <td>1.90</td>\n",
              "      <td>71.32</td>\n",
              "      <td>2.67</td>\n",
              "      <td>34981</td>\n",
              "      <td>2409</td>\n",
              "      <td>6.89</td>\n",
              "      <td>Europe</td>\n",
              "    </tr>\n",
              "    <tr>\n",
              "      <th>8</th>\n",
              "      <td>Australia</td>\n",
              "      <td>15303</td>\n",
              "      <td>167</td>\n",
              "      <td>9311</td>\n",
              "      <td>5825</td>\n",
              "      <td>368</td>\n",
              "      <td>6</td>\n",
              "      <td>137</td>\n",
              "      <td>1.09</td>\n",
              "      <td>60.84</td>\n",
              "      <td>1.79</td>\n",
              "      <td>12428</td>\n",
              "      <td>2875</td>\n",
              "      <td>23.13</td>\n",
              "      <td>Western Pacific</td>\n",
              "    </tr>\n",
              "    <tr>\n",
              "      <th>9</th>\n",
              "      <td>Austria</td>\n",
              "      <td>20558</td>\n",
              "      <td>713</td>\n",
              "      <td>18246</td>\n",
              "      <td>1599</td>\n",
              "      <td>86</td>\n",
              "      <td>1</td>\n",
              "      <td>37</td>\n",
              "      <td>3.47</td>\n",
              "      <td>88.75</td>\n",
              "      <td>3.91</td>\n",
              "      <td>19743</td>\n",
              "      <td>815</td>\n",
              "      <td>4.13</td>\n",
              "      <td>Europe</td>\n",
              "    </tr>\n",
              "  </tbody>\n",
              "</table>\n",
              "</div>"
            ],
            "text/plain": [
              "        Country/Region  Confirmed  ...  1 week % increase             WHO Region\n",
              "0          Afghanistan      36263  ...               2.07  Eastern Mediterranean\n",
              "1              Albania       4880  ...              17.00                 Europe\n",
              "2              Algeria      27973  ...              18.07                 Africa\n",
              "3              Andorra        907  ...               2.60                 Europe\n",
              "4               Angola        950  ...              26.84                 Africa\n",
              "5  Antigua and Barbuda         86  ...              13.16               Americas\n",
              "6            Argentina     167416  ...              28.02               Americas\n",
              "7              Armenia      37390  ...               6.89                 Europe\n",
              "8            Australia      15303  ...              23.13        Western Pacific\n",
              "9              Austria      20558  ...               4.13                 Europe\n",
              "\n",
              "[10 rows x 15 columns]"
            ]
          },
          "metadata": {},
          "execution_count": 74
        }
      ]
    },
    {
      "cell_type": "code",
      "metadata": {
        "colab": {
          "base_uri": "https://localhost:8080/"
        },
        "id": "35CflKRaNdzy",
        "outputId": "3c59d2b2-aa58-4fe6-e8bf-626f50debe24"
      },
      "source": [
        "type(df)"
      ],
      "execution_count": null,
      "outputs": [
        {
          "output_type": "execute_result",
          "data": {
            "text/plain": [
              "pandas.core.frame.DataFrame"
            ]
          },
          "metadata": {},
          "execution_count": 75
        }
      ]
    },
    {
      "cell_type": "code",
      "metadata": {
        "colab": {
          "base_uri": "https://localhost:8080/"
        },
        "id": "ikA-pL3ANktJ",
        "outputId": "e7cd9974-5a65-4bce-f327-e1b9bbd311cb"
      },
      "source": [
        "df.info()"
      ],
      "execution_count": null,
      "outputs": [
        {
          "output_type": "stream",
          "name": "stdout",
          "text": [
            "<class 'pandas.core.frame.DataFrame'>\n",
            "RangeIndex: 187 entries, 0 to 186\n",
            "Data columns (total 15 columns):\n",
            " #   Column                  Non-Null Count  Dtype  \n",
            "---  ------                  --------------  -----  \n",
            " 0   Country/Region          187 non-null    object \n",
            " 1   Confirmed               187 non-null    int64  \n",
            " 2   Deaths                  187 non-null    int64  \n",
            " 3   Recovered               187 non-null    int64  \n",
            " 4   Active                  187 non-null    int64  \n",
            " 5   New cases               187 non-null    int64  \n",
            " 6   New deaths              187 non-null    int64  \n",
            " 7   New recovered           187 non-null    int64  \n",
            " 8   Deaths / 100 Cases      187 non-null    float64\n",
            " 9   Recovered / 100 Cases   187 non-null    float64\n",
            " 10  Deaths / 100 Recovered  187 non-null    float64\n",
            " 11  Confirmed last week     187 non-null    int64  \n",
            " 12  1 week change           187 non-null    int64  \n",
            " 13  1 week % increase       187 non-null    float64\n",
            " 14  WHO Region              187 non-null    object \n",
            "dtypes: float64(4), int64(9), object(2)\n",
            "memory usage: 22.0+ KB\n"
          ]
        }
      ]
    },
    {
      "cell_type": "code",
      "metadata": {
        "colab": {
          "base_uri": "https://localhost:8080/"
        },
        "id": "JwBmzYksNnBa",
        "outputId": "079b21f8-39b5-4b59-9ce8-76ca831ceb3f"
      },
      "source": [
        "df.shape"
      ],
      "execution_count": null,
      "outputs": [
        {
          "output_type": "execute_result",
          "data": {
            "text/plain": [
              "(187, 15)"
            ]
          },
          "metadata": {},
          "execution_count": 77
        }
      ]
    },
    {
      "cell_type": "code",
      "metadata": {
        "colab": {
          "base_uri": "https://localhost:8080/"
        },
        "id": "8Fe_wxbtNq_P",
        "outputId": "b9cdd379-5879-46de-c596-906f3546a945"
      },
      "source": [
        "df.isnull().sum()"
      ],
      "execution_count": null,
      "outputs": [
        {
          "output_type": "execute_result",
          "data": {
            "text/plain": [
              "Country/Region            0\n",
              "Confirmed                 0\n",
              "Deaths                    0\n",
              "Recovered                 0\n",
              "Active                    0\n",
              "New cases                 0\n",
              "New deaths                0\n",
              "New recovered             0\n",
              "Deaths / 100 Cases        0\n",
              "Recovered / 100 Cases     0\n",
              "Deaths / 100 Recovered    0\n",
              "Confirmed last week       0\n",
              "1 week change             0\n",
              "1 week % increase         0\n",
              "WHO Region                0\n",
              "dtype: int64"
            ]
          },
          "metadata": {},
          "execution_count": 78
        }
      ]
    },
    {
      "cell_type": "code",
      "metadata": {
        "colab": {
          "base_uri": "https://localhost:8080/"
        },
        "id": "r2XUYgNKNu68",
        "outputId": "de2eaa3c-1122-49f7-bdd0-461c0b494a2f"
      },
      "source": [
        "df.dtypes"
      ],
      "execution_count": null,
      "outputs": [
        {
          "output_type": "execute_result",
          "data": {
            "text/plain": [
              "Country/Region             object\n",
              "Confirmed                   int64\n",
              "Deaths                      int64\n",
              "Recovered                   int64\n",
              "Active                      int64\n",
              "New cases                   int64\n",
              "New deaths                  int64\n",
              "New recovered               int64\n",
              "Deaths / 100 Cases        float64\n",
              "Recovered / 100 Cases     float64\n",
              "Deaths / 100 Recovered    float64\n",
              "Confirmed last week         int64\n",
              "1 week change               int64\n",
              "1 week % increase         float64\n",
              "WHO Region                 object\n",
              "dtype: object"
            ]
          },
          "metadata": {},
          "execution_count": 79
        }
      ]
    },
    {
      "cell_type": "code",
      "metadata": {
        "colab": {
          "base_uri": "https://localhost:8080/"
        },
        "id": "vb5JFU9yQFCK",
        "outputId": "7e374539-d055-4a38-ce30-cd31af8bd16d"
      },
      "source": [
        "df.duplicated().sum()"
      ],
      "execution_count": null,
      "outputs": [
        {
          "output_type": "execute_result",
          "data": {
            "text/plain": [
              "0"
            ]
          },
          "metadata": {},
          "execution_count": 80
        }
      ]
    },
    {
      "cell_type": "code",
      "metadata": {
        "colab": {
          "base_uri": "https://localhost:8080/"
        },
        "id": "OnHzRlM1OfqM",
        "outputId": "23377888-4355-4e86-b001-475a098d8a9a"
      },
      "source": [
        "df.columns"
      ],
      "execution_count": null,
      "outputs": [
        {
          "output_type": "execute_result",
          "data": {
            "text/plain": [
              "Index(['Country/Region', 'Confirmed', 'Deaths', 'Recovered', 'Active',\n",
              "       'New cases', 'New deaths', 'New recovered', 'Deaths / 100 Cases',\n",
              "       'Recovered / 100 Cases', 'Deaths / 100 Recovered',\n",
              "       'Confirmed last week', '1 week change', '1 week % increase',\n",
              "       'WHO Region'],\n",
              "      dtype='object')"
            ]
          },
          "metadata": {},
          "execution_count": 81
        }
      ]
    },
    {
      "cell_type": "code",
      "metadata": {
        "colab": {
          "base_uri": "https://localhost:8080/",
          "height": 327
        },
        "id": "rut5cuXNOjO-",
        "outputId": "c218f383-dd7d-4e0d-dc63-f622c63dc377"
      },
      "source": [
        "df.describe()"
      ],
      "execution_count": null,
      "outputs": [
        {
          "output_type": "execute_result",
          "data": {
            "text/html": [
              "<div>\n",
              "<style scoped>\n",
              "    .dataframe tbody tr th:only-of-type {\n",
              "        vertical-align: middle;\n",
              "    }\n",
              "\n",
              "    .dataframe tbody tr th {\n",
              "        vertical-align: top;\n",
              "    }\n",
              "\n",
              "    .dataframe thead th {\n",
              "        text-align: right;\n",
              "    }\n",
              "</style>\n",
              "<table border=\"1\" class=\"dataframe\">\n",
              "  <thead>\n",
              "    <tr style=\"text-align: right;\">\n",
              "      <th></th>\n",
              "      <th>Confirmed</th>\n",
              "      <th>Deaths</th>\n",
              "      <th>Recovered</th>\n",
              "      <th>Active</th>\n",
              "      <th>New cases</th>\n",
              "      <th>New deaths</th>\n",
              "      <th>New recovered</th>\n",
              "      <th>Deaths / 100 Cases</th>\n",
              "      <th>Recovered / 100 Cases</th>\n",
              "      <th>Deaths / 100 Recovered</th>\n",
              "      <th>Confirmed last week</th>\n",
              "      <th>1 week change</th>\n",
              "      <th>1 week % increase</th>\n",
              "    </tr>\n",
              "  </thead>\n",
              "  <tbody>\n",
              "    <tr>\n",
              "      <th>count</th>\n",
              "      <td>1.870000e+02</td>\n",
              "      <td>187.000000</td>\n",
              "      <td>1.870000e+02</td>\n",
              "      <td>1.870000e+02</td>\n",
              "      <td>187.000000</td>\n",
              "      <td>187.000000</td>\n",
              "      <td>187.000000</td>\n",
              "      <td>187.000000</td>\n",
              "      <td>187.000000</td>\n",
              "      <td>187.00</td>\n",
              "      <td>1.870000e+02</td>\n",
              "      <td>187.000000</td>\n",
              "      <td>187.000000</td>\n",
              "    </tr>\n",
              "    <tr>\n",
              "      <th>mean</th>\n",
              "      <td>8.813094e+04</td>\n",
              "      <td>3497.518717</td>\n",
              "      <td>5.063148e+04</td>\n",
              "      <td>3.400194e+04</td>\n",
              "      <td>1222.957219</td>\n",
              "      <td>28.957219</td>\n",
              "      <td>933.812834</td>\n",
              "      <td>3.019519</td>\n",
              "      <td>64.820535</td>\n",
              "      <td>inf</td>\n",
              "      <td>7.868248e+04</td>\n",
              "      <td>9448.459893</td>\n",
              "      <td>13.606203</td>\n",
              "    </tr>\n",
              "    <tr>\n",
              "      <th>std</th>\n",
              "      <td>3.833187e+05</td>\n",
              "      <td>14100.002482</td>\n",
              "      <td>1.901882e+05</td>\n",
              "      <td>2.133262e+05</td>\n",
              "      <td>5710.374790</td>\n",
              "      <td>120.037173</td>\n",
              "      <td>4197.719635</td>\n",
              "      <td>3.454302</td>\n",
              "      <td>26.287694</td>\n",
              "      <td>NaN</td>\n",
              "      <td>3.382737e+05</td>\n",
              "      <td>47491.127684</td>\n",
              "      <td>24.509838</td>\n",
              "    </tr>\n",
              "    <tr>\n",
              "      <th>min</th>\n",
              "      <td>1.000000e+01</td>\n",
              "      <td>0.000000</td>\n",
              "      <td>0.000000e+00</td>\n",
              "      <td>0.000000e+00</td>\n",
              "      <td>0.000000</td>\n",
              "      <td>0.000000</td>\n",
              "      <td>0.000000</td>\n",
              "      <td>0.000000</td>\n",
              "      <td>0.000000</td>\n",
              "      <td>0.00</td>\n",
              "      <td>1.000000e+01</td>\n",
              "      <td>-47.000000</td>\n",
              "      <td>-3.840000</td>\n",
              "    </tr>\n",
              "    <tr>\n",
              "      <th>25%</th>\n",
              "      <td>1.114000e+03</td>\n",
              "      <td>18.500000</td>\n",
              "      <td>6.265000e+02</td>\n",
              "      <td>1.415000e+02</td>\n",
              "      <td>4.000000</td>\n",
              "      <td>0.000000</td>\n",
              "      <td>0.000000</td>\n",
              "      <td>0.945000</td>\n",
              "      <td>48.770000</td>\n",
              "      <td>1.45</td>\n",
              "      <td>1.051500e+03</td>\n",
              "      <td>49.000000</td>\n",
              "      <td>2.775000</td>\n",
              "    </tr>\n",
              "    <tr>\n",
              "      <th>50%</th>\n",
              "      <td>5.059000e+03</td>\n",
              "      <td>108.000000</td>\n",
              "      <td>2.815000e+03</td>\n",
              "      <td>1.600000e+03</td>\n",
              "      <td>49.000000</td>\n",
              "      <td>1.000000</td>\n",
              "      <td>22.000000</td>\n",
              "      <td>2.150000</td>\n",
              "      <td>71.320000</td>\n",
              "      <td>3.62</td>\n",
              "      <td>5.020000e+03</td>\n",
              "      <td>432.000000</td>\n",
              "      <td>6.890000</td>\n",
              "    </tr>\n",
              "    <tr>\n",
              "      <th>75%</th>\n",
              "      <td>4.046050e+04</td>\n",
              "      <td>734.000000</td>\n",
              "      <td>2.260600e+04</td>\n",
              "      <td>9.149000e+03</td>\n",
              "      <td>419.500000</td>\n",
              "      <td>6.000000</td>\n",
              "      <td>221.000000</td>\n",
              "      <td>3.875000</td>\n",
              "      <td>86.885000</td>\n",
              "      <td>6.44</td>\n",
              "      <td>3.708050e+04</td>\n",
              "      <td>3172.000000</td>\n",
              "      <td>16.855000</td>\n",
              "    </tr>\n",
              "    <tr>\n",
              "      <th>max</th>\n",
              "      <td>4.290259e+06</td>\n",
              "      <td>148011.000000</td>\n",
              "      <td>1.846641e+06</td>\n",
              "      <td>2.816444e+06</td>\n",
              "      <td>56336.000000</td>\n",
              "      <td>1076.000000</td>\n",
              "      <td>33728.000000</td>\n",
              "      <td>28.560000</td>\n",
              "      <td>100.000000</td>\n",
              "      <td>inf</td>\n",
              "      <td>3.834677e+06</td>\n",
              "      <td>455582.000000</td>\n",
              "      <td>226.320000</td>\n",
              "    </tr>\n",
              "  </tbody>\n",
              "</table>\n",
              "</div>"
            ],
            "text/plain": [
              "          Confirmed         Deaths  ...  1 week change  1 week % increase\n",
              "count  1.870000e+02     187.000000  ...     187.000000         187.000000\n",
              "mean   8.813094e+04    3497.518717  ...    9448.459893          13.606203\n",
              "std    3.833187e+05   14100.002482  ...   47491.127684          24.509838\n",
              "min    1.000000e+01       0.000000  ...     -47.000000          -3.840000\n",
              "25%    1.114000e+03      18.500000  ...      49.000000           2.775000\n",
              "50%    5.059000e+03     108.000000  ...     432.000000           6.890000\n",
              "75%    4.046050e+04     734.000000  ...    3172.000000          16.855000\n",
              "max    4.290259e+06  148011.000000  ...  455582.000000         226.320000\n",
              "\n",
              "[8 rows x 13 columns]"
            ]
          },
          "metadata": {},
          "execution_count": 82
        }
      ]
    },
    {
      "cell_type": "code",
      "metadata": {
        "colab": {
          "base_uri": "https://localhost:8080/"
        },
        "id": "iVmiYPxzOpT6",
        "outputId": "334e7dab-629c-4062-e469-e025733b7701"
      },
      "source": [
        "df['New cases'].mean()"
      ],
      "execution_count": null,
      "outputs": [
        {
          "output_type": "execute_result",
          "data": {
            "text/plain": [
              "1222.957219251337"
            ]
          },
          "metadata": {},
          "execution_count": 83
        }
      ]
    },
    {
      "cell_type": "code",
      "metadata": {
        "colab": {
          "base_uri": "https://localhost:8080/"
        },
        "id": "XVdZyeIRPust",
        "outputId": "60a35fdd-a746-478d-e0ea-40a4bcf8d718"
      },
      "source": [
        "df['New cases'].std()"
      ],
      "execution_count": null,
      "outputs": [
        {
          "output_type": "execute_result",
          "data": {
            "text/plain": [
              "5710.3747902805635"
            ]
          },
          "metadata": {},
          "execution_count": 84
        }
      ]
    },
    {
      "cell_type": "code",
      "metadata": {
        "colab": {
          "base_uri": "https://localhost:8080/"
        },
        "id": "WERGB7vzPw48",
        "outputId": "b30bb553-89bf-4e3a-f42d-ffc7cc1db0dc"
      },
      "source": [
        "df['New cases'].count()"
      ],
      "execution_count": null,
      "outputs": [
        {
          "output_type": "execute_result",
          "data": {
            "text/plain": [
              "187"
            ]
          },
          "metadata": {},
          "execution_count": 85
        }
      ]
    },
    {
      "cell_type": "code",
      "metadata": {
        "colab": {
          "base_uri": "https://localhost:8080/",
          "height": 327
        },
        "id": "XYGD8rkiPyyW",
        "outputId": "c64e940f-aa10-44cf-a22b-63755c7f15fe"
      },
      "source": [
        "df.describe()"
      ],
      "execution_count": null,
      "outputs": [
        {
          "output_type": "execute_result",
          "data": {
            "text/html": [
              "<div>\n",
              "<style scoped>\n",
              "    .dataframe tbody tr th:only-of-type {\n",
              "        vertical-align: middle;\n",
              "    }\n",
              "\n",
              "    .dataframe tbody tr th {\n",
              "        vertical-align: top;\n",
              "    }\n",
              "\n",
              "    .dataframe thead th {\n",
              "        text-align: right;\n",
              "    }\n",
              "</style>\n",
              "<table border=\"1\" class=\"dataframe\">\n",
              "  <thead>\n",
              "    <tr style=\"text-align: right;\">\n",
              "      <th></th>\n",
              "      <th>Confirmed</th>\n",
              "      <th>Deaths</th>\n",
              "      <th>Recovered</th>\n",
              "      <th>Active</th>\n",
              "      <th>New cases</th>\n",
              "      <th>New deaths</th>\n",
              "      <th>New recovered</th>\n",
              "      <th>Deaths / 100 Cases</th>\n",
              "      <th>Recovered / 100 Cases</th>\n",
              "      <th>Deaths / 100 Recovered</th>\n",
              "      <th>Confirmed last week</th>\n",
              "      <th>1 week change</th>\n",
              "      <th>1 week % increase</th>\n",
              "    </tr>\n",
              "  </thead>\n",
              "  <tbody>\n",
              "    <tr>\n",
              "      <th>count</th>\n",
              "      <td>1.870000e+02</td>\n",
              "      <td>187.000000</td>\n",
              "      <td>1.870000e+02</td>\n",
              "      <td>1.870000e+02</td>\n",
              "      <td>187.000000</td>\n",
              "      <td>187.000000</td>\n",
              "      <td>187.000000</td>\n",
              "      <td>187.000000</td>\n",
              "      <td>187.000000</td>\n",
              "      <td>187.00</td>\n",
              "      <td>1.870000e+02</td>\n",
              "      <td>187.000000</td>\n",
              "      <td>187.000000</td>\n",
              "    </tr>\n",
              "    <tr>\n",
              "      <th>mean</th>\n",
              "      <td>8.813094e+04</td>\n",
              "      <td>3497.518717</td>\n",
              "      <td>5.063148e+04</td>\n",
              "      <td>3.400194e+04</td>\n",
              "      <td>1222.957219</td>\n",
              "      <td>28.957219</td>\n",
              "      <td>933.812834</td>\n",
              "      <td>3.019519</td>\n",
              "      <td>64.820535</td>\n",
              "      <td>inf</td>\n",
              "      <td>7.868248e+04</td>\n",
              "      <td>9448.459893</td>\n",
              "      <td>13.606203</td>\n",
              "    </tr>\n",
              "    <tr>\n",
              "      <th>std</th>\n",
              "      <td>3.833187e+05</td>\n",
              "      <td>14100.002482</td>\n",
              "      <td>1.901882e+05</td>\n",
              "      <td>2.133262e+05</td>\n",
              "      <td>5710.374790</td>\n",
              "      <td>120.037173</td>\n",
              "      <td>4197.719635</td>\n",
              "      <td>3.454302</td>\n",
              "      <td>26.287694</td>\n",
              "      <td>NaN</td>\n",
              "      <td>3.382737e+05</td>\n",
              "      <td>47491.127684</td>\n",
              "      <td>24.509838</td>\n",
              "    </tr>\n",
              "    <tr>\n",
              "      <th>min</th>\n",
              "      <td>1.000000e+01</td>\n",
              "      <td>0.000000</td>\n",
              "      <td>0.000000e+00</td>\n",
              "      <td>0.000000e+00</td>\n",
              "      <td>0.000000</td>\n",
              "      <td>0.000000</td>\n",
              "      <td>0.000000</td>\n",
              "      <td>0.000000</td>\n",
              "      <td>0.000000</td>\n",
              "      <td>0.00</td>\n",
              "      <td>1.000000e+01</td>\n",
              "      <td>-47.000000</td>\n",
              "      <td>-3.840000</td>\n",
              "    </tr>\n",
              "    <tr>\n",
              "      <th>25%</th>\n",
              "      <td>1.114000e+03</td>\n",
              "      <td>18.500000</td>\n",
              "      <td>6.265000e+02</td>\n",
              "      <td>1.415000e+02</td>\n",
              "      <td>4.000000</td>\n",
              "      <td>0.000000</td>\n",
              "      <td>0.000000</td>\n",
              "      <td>0.945000</td>\n",
              "      <td>48.770000</td>\n",
              "      <td>1.45</td>\n",
              "      <td>1.051500e+03</td>\n",
              "      <td>49.000000</td>\n",
              "      <td>2.775000</td>\n",
              "    </tr>\n",
              "    <tr>\n",
              "      <th>50%</th>\n",
              "      <td>5.059000e+03</td>\n",
              "      <td>108.000000</td>\n",
              "      <td>2.815000e+03</td>\n",
              "      <td>1.600000e+03</td>\n",
              "      <td>49.000000</td>\n",
              "      <td>1.000000</td>\n",
              "      <td>22.000000</td>\n",
              "      <td>2.150000</td>\n",
              "      <td>71.320000</td>\n",
              "      <td>3.62</td>\n",
              "      <td>5.020000e+03</td>\n",
              "      <td>432.000000</td>\n",
              "      <td>6.890000</td>\n",
              "    </tr>\n",
              "    <tr>\n",
              "      <th>75%</th>\n",
              "      <td>4.046050e+04</td>\n",
              "      <td>734.000000</td>\n",
              "      <td>2.260600e+04</td>\n",
              "      <td>9.149000e+03</td>\n",
              "      <td>419.500000</td>\n",
              "      <td>6.000000</td>\n",
              "      <td>221.000000</td>\n",
              "      <td>3.875000</td>\n",
              "      <td>86.885000</td>\n",
              "      <td>6.44</td>\n",
              "      <td>3.708050e+04</td>\n",
              "      <td>3172.000000</td>\n",
              "      <td>16.855000</td>\n",
              "    </tr>\n",
              "    <tr>\n",
              "      <th>max</th>\n",
              "      <td>4.290259e+06</td>\n",
              "      <td>148011.000000</td>\n",
              "      <td>1.846641e+06</td>\n",
              "      <td>2.816444e+06</td>\n",
              "      <td>56336.000000</td>\n",
              "      <td>1076.000000</td>\n",
              "      <td>33728.000000</td>\n",
              "      <td>28.560000</td>\n",
              "      <td>100.000000</td>\n",
              "      <td>inf</td>\n",
              "      <td>3.834677e+06</td>\n",
              "      <td>455582.000000</td>\n",
              "      <td>226.320000</td>\n",
              "    </tr>\n",
              "  </tbody>\n",
              "</table>\n",
              "</div>"
            ],
            "text/plain": [
              "          Confirmed         Deaths  ...  1 week change  1 week % increase\n",
              "count  1.870000e+02     187.000000  ...     187.000000         187.000000\n",
              "mean   8.813094e+04    3497.518717  ...    9448.459893          13.606203\n",
              "std    3.833187e+05   14100.002482  ...   47491.127684          24.509838\n",
              "min    1.000000e+01       0.000000  ...     -47.000000          -3.840000\n",
              "25%    1.114000e+03      18.500000  ...      49.000000           2.775000\n",
              "50%    5.059000e+03     108.000000  ...     432.000000           6.890000\n",
              "75%    4.046050e+04     734.000000  ...    3172.000000          16.855000\n",
              "max    4.290259e+06  148011.000000  ...  455582.000000         226.320000\n",
              "\n",
              "[8 rows x 13 columns]"
            ]
          },
          "metadata": {},
          "execution_count": 86
        }
      ]
    },
    {
      "cell_type": "code",
      "metadata": {
        "colab": {
          "base_uri": "https://localhost:8080/",
          "height": 547
        },
        "id": "ST-r9AJvYeec",
        "outputId": "16b843a8-a540-4d2f-bc15-4a7c5ab827be"
      },
      "source": [
        "df.corr()"
      ],
      "execution_count": null,
      "outputs": [
        {
          "output_type": "execute_result",
          "data": {
            "text/html": [
              "<div>\n",
              "<style scoped>\n",
              "    .dataframe tbody tr th:only-of-type {\n",
              "        vertical-align: middle;\n",
              "    }\n",
              "\n",
              "    .dataframe tbody tr th {\n",
              "        vertical-align: top;\n",
              "    }\n",
              "\n",
              "    .dataframe thead th {\n",
              "        text-align: right;\n",
              "    }\n",
              "</style>\n",
              "<table border=\"1\" class=\"dataframe\">\n",
              "  <thead>\n",
              "    <tr style=\"text-align: right;\">\n",
              "      <th></th>\n",
              "      <th>Confirmed</th>\n",
              "      <th>Deaths</th>\n",
              "      <th>Recovered</th>\n",
              "      <th>Active</th>\n",
              "      <th>New cases</th>\n",
              "      <th>New deaths</th>\n",
              "      <th>New recovered</th>\n",
              "      <th>Deaths / 100 Cases</th>\n",
              "      <th>Recovered / 100 Cases</th>\n",
              "      <th>Deaths / 100 Recovered</th>\n",
              "      <th>Confirmed last week</th>\n",
              "      <th>1 week change</th>\n",
              "      <th>1 week % increase</th>\n",
              "    </tr>\n",
              "  </thead>\n",
              "  <tbody>\n",
              "    <tr>\n",
              "      <th>Confirmed</th>\n",
              "      <td>1.000000</td>\n",
              "      <td>0.934698</td>\n",
              "      <td>0.906377</td>\n",
              "      <td>0.927018</td>\n",
              "      <td>0.909720</td>\n",
              "      <td>0.871683</td>\n",
              "      <td>0.859252</td>\n",
              "      <td>0.063550</td>\n",
              "      <td>-0.064815</td>\n",
              "      <td>0.025175</td>\n",
              "      <td>0.999127</td>\n",
              "      <td>0.954710</td>\n",
              "      <td>-0.010161</td>\n",
              "    </tr>\n",
              "    <tr>\n",
              "      <th>Deaths</th>\n",
              "      <td>0.934698</td>\n",
              "      <td>1.000000</td>\n",
              "      <td>0.832098</td>\n",
              "      <td>0.871586</td>\n",
              "      <td>0.806975</td>\n",
              "      <td>0.814161</td>\n",
              "      <td>0.765114</td>\n",
              "      <td>0.251565</td>\n",
              "      <td>-0.114529</td>\n",
              "      <td>0.169006</td>\n",
              "      <td>0.939082</td>\n",
              "      <td>0.855330</td>\n",
              "      <td>-0.034708</td>\n",
              "    </tr>\n",
              "    <tr>\n",
              "      <th>Recovered</th>\n",
              "      <td>0.906377</td>\n",
              "      <td>0.832098</td>\n",
              "      <td>1.000000</td>\n",
              "      <td>0.682103</td>\n",
              "      <td>0.818942</td>\n",
              "      <td>0.820338</td>\n",
              "      <td>0.919203</td>\n",
              "      <td>0.048438</td>\n",
              "      <td>0.026610</td>\n",
              "      <td>-0.027277</td>\n",
              "      <td>0.899312</td>\n",
              "      <td>0.910013</td>\n",
              "      <td>-0.013697</td>\n",
              "    </tr>\n",
              "    <tr>\n",
              "      <th>Active</th>\n",
              "      <td>0.927018</td>\n",
              "      <td>0.871586</td>\n",
              "      <td>0.682103</td>\n",
              "      <td>1.000000</td>\n",
              "      <td>0.851190</td>\n",
              "      <td>0.781123</td>\n",
              "      <td>0.673887</td>\n",
              "      <td>0.054380</td>\n",
              "      <td>-0.132618</td>\n",
              "      <td>0.058386</td>\n",
              "      <td>0.931459</td>\n",
              "      <td>0.847642</td>\n",
              "      <td>-0.003752</td>\n",
              "    </tr>\n",
              "    <tr>\n",
              "      <th>New cases</th>\n",
              "      <td>0.909720</td>\n",
              "      <td>0.806975</td>\n",
              "      <td>0.818942</td>\n",
              "      <td>0.851190</td>\n",
              "      <td>1.000000</td>\n",
              "      <td>0.935947</td>\n",
              "      <td>0.914765</td>\n",
              "      <td>0.020104</td>\n",
              "      <td>-0.078666</td>\n",
              "      <td>-0.011637</td>\n",
              "      <td>0.896084</td>\n",
              "      <td>0.959993</td>\n",
              "      <td>0.030791</td>\n",
              "    </tr>\n",
              "    <tr>\n",
              "      <th>New deaths</th>\n",
              "      <td>0.871683</td>\n",
              "      <td>0.814161</td>\n",
              "      <td>0.820338</td>\n",
              "      <td>0.781123</td>\n",
              "      <td>0.935947</td>\n",
              "      <td>1.000000</td>\n",
              "      <td>0.889234</td>\n",
              "      <td>0.060399</td>\n",
              "      <td>-0.062792</td>\n",
              "      <td>-0.020750</td>\n",
              "      <td>0.862118</td>\n",
              "      <td>0.894915</td>\n",
              "      <td>0.025293</td>\n",
              "    </tr>\n",
              "    <tr>\n",
              "      <th>New recovered</th>\n",
              "      <td>0.859252</td>\n",
              "      <td>0.765114</td>\n",
              "      <td>0.919203</td>\n",
              "      <td>0.673887</td>\n",
              "      <td>0.914765</td>\n",
              "      <td>0.889234</td>\n",
              "      <td>1.000000</td>\n",
              "      <td>0.017090</td>\n",
              "      <td>-0.024293</td>\n",
              "      <td>-0.023340</td>\n",
              "      <td>0.839692</td>\n",
              "      <td>0.954321</td>\n",
              "      <td>0.032662</td>\n",
              "    </tr>\n",
              "    <tr>\n",
              "      <th>Deaths / 100 Cases</th>\n",
              "      <td>0.063550</td>\n",
              "      <td>0.251565</td>\n",
              "      <td>0.048438</td>\n",
              "      <td>0.054380</td>\n",
              "      <td>0.020104</td>\n",
              "      <td>0.060399</td>\n",
              "      <td>0.017090</td>\n",
              "      <td>1.000000</td>\n",
              "      <td>-0.168920</td>\n",
              "      <td>0.334594</td>\n",
              "      <td>0.069894</td>\n",
              "      <td>0.015095</td>\n",
              "      <td>-0.134534</td>\n",
              "    </tr>\n",
              "    <tr>\n",
              "      <th>Recovered / 100 Cases</th>\n",
              "      <td>-0.064815</td>\n",
              "      <td>-0.114529</td>\n",
              "      <td>0.026610</td>\n",
              "      <td>-0.132618</td>\n",
              "      <td>-0.078666</td>\n",
              "      <td>-0.062792</td>\n",
              "      <td>-0.024293</td>\n",
              "      <td>-0.168920</td>\n",
              "      <td>1.000000</td>\n",
              "      <td>-0.295381</td>\n",
              "      <td>-0.064600</td>\n",
              "      <td>-0.063013</td>\n",
              "      <td>-0.394254</td>\n",
              "    </tr>\n",
              "    <tr>\n",
              "      <th>Deaths / 100 Recovered</th>\n",
              "      <td>0.025175</td>\n",
              "      <td>0.169006</td>\n",
              "      <td>-0.027277</td>\n",
              "      <td>0.058386</td>\n",
              "      <td>-0.011637</td>\n",
              "      <td>-0.020750</td>\n",
              "      <td>-0.023340</td>\n",
              "      <td>0.334594</td>\n",
              "      <td>-0.295381</td>\n",
              "      <td>1.000000</td>\n",
              "      <td>0.030460</td>\n",
              "      <td>-0.013763</td>\n",
              "      <td>-0.049083</td>\n",
              "    </tr>\n",
              "    <tr>\n",
              "      <th>Confirmed last week</th>\n",
              "      <td>0.999127</td>\n",
              "      <td>0.939082</td>\n",
              "      <td>0.899312</td>\n",
              "      <td>0.931459</td>\n",
              "      <td>0.896084</td>\n",
              "      <td>0.862118</td>\n",
              "      <td>0.839692</td>\n",
              "      <td>0.069894</td>\n",
              "      <td>-0.064600</td>\n",
              "      <td>0.030460</td>\n",
              "      <td>1.000000</td>\n",
              "      <td>0.941448</td>\n",
              "      <td>-0.015247</td>\n",
              "    </tr>\n",
              "    <tr>\n",
              "      <th>1 week change</th>\n",
              "      <td>0.954710</td>\n",
              "      <td>0.855330</td>\n",
              "      <td>0.910013</td>\n",
              "      <td>0.847642</td>\n",
              "      <td>0.959993</td>\n",
              "      <td>0.894915</td>\n",
              "      <td>0.954321</td>\n",
              "      <td>0.015095</td>\n",
              "      <td>-0.063013</td>\n",
              "      <td>-0.013763</td>\n",
              "      <td>0.941448</td>\n",
              "      <td>1.000000</td>\n",
              "      <td>0.026594</td>\n",
              "    </tr>\n",
              "    <tr>\n",
              "      <th>1 week % increase</th>\n",
              "      <td>-0.010161</td>\n",
              "      <td>-0.034708</td>\n",
              "      <td>-0.013697</td>\n",
              "      <td>-0.003752</td>\n",
              "      <td>0.030791</td>\n",
              "      <td>0.025293</td>\n",
              "      <td>0.032662</td>\n",
              "      <td>-0.134534</td>\n",
              "      <td>-0.394254</td>\n",
              "      <td>-0.049083</td>\n",
              "      <td>-0.015247</td>\n",
              "      <td>0.026594</td>\n",
              "      <td>1.000000</td>\n",
              "    </tr>\n",
              "  </tbody>\n",
              "</table>\n",
              "</div>"
            ],
            "text/plain": [
              "                        Confirmed    Deaths  ...  1 week change  1 week % increase\n",
              "Confirmed                1.000000  0.934698  ...       0.954710          -0.010161\n",
              "Deaths                   0.934698  1.000000  ...       0.855330          -0.034708\n",
              "Recovered                0.906377  0.832098  ...       0.910013          -0.013697\n",
              "Active                   0.927018  0.871586  ...       0.847642          -0.003752\n",
              "New cases                0.909720  0.806975  ...       0.959993           0.030791\n",
              "New deaths               0.871683  0.814161  ...       0.894915           0.025293\n",
              "New recovered            0.859252  0.765114  ...       0.954321           0.032662\n",
              "Deaths / 100 Cases       0.063550  0.251565  ...       0.015095          -0.134534\n",
              "Recovered / 100 Cases   -0.064815 -0.114529  ...      -0.063013          -0.394254\n",
              "Deaths / 100 Recovered   0.025175  0.169006  ...      -0.013763          -0.049083\n",
              "Confirmed last week      0.999127  0.939082  ...       0.941448          -0.015247\n",
              "1 week change            0.954710  0.855330  ...       1.000000           0.026594\n",
              "1 week % increase       -0.010161 -0.034708  ...       0.026594           1.000000\n",
              "\n",
              "[13 rows x 13 columns]"
            ]
          },
          "metadata": {},
          "execution_count": 87
        }
      ]
    },
    {
      "cell_type": "code",
      "metadata": {
        "colab": {
          "base_uri": "https://localhost:8080/",
          "height": 851
        },
        "id": "G_znTxBzP1mu",
        "outputId": "5d770d57-fdb2-4c9e-f9ee-96aae01735b4"
      },
      "source": [
        "ratio = ['Confirmed','Deaths','Recovered']\n",
        "    \n",
        "for values in ratio:\n",
        "    df[values].plot(kind='hist',bins =10)\n",
        "    plt.title('{valname} percentage'.format(valname = values))\n",
        "    plt.xlabel('value in percentage')\n",
        "    plt.show()"
      ],
      "execution_count": null,
      "outputs": [
        {
          "output_type": "display_data",
          "data": {
            "image/png": "[encoded data removed]",
            "text/plain": [
              "<Figure size 432x288 with 1 Axes>"
            ]
          },
          "metadata": {
            "needs_background": "light"
          }
        },
        {
          "output_type": "display_data",
          "data": {
            "image/png": "[encoded data removed]",
            "text/plain": [
              "<Figure size 432x288 with 1 Axes>"
            ]
          },
          "metadata": {
            "needs_background": "light"
          }
        },
        {
          "output_type": "display_data",
          "data": {
            "image/png": "[encoded data removed]",
            "text/plain": [
              "<Figure size 432x288 with 1 Axes>"
            ]
          },
          "metadata": {
            "needs_background": "light"
          }
        }
      ]
    },
    {
      "cell_type": "code",
      "metadata": {
        "colab": {
          "base_uri": "https://localhost:8080/",
          "height": 601
        },
        "id": "QmFWhMXHQxiL",
        "outputId": "3151365b-0173-42c4-efee-4210a6f63891"
      },
      "source": [
        "plt.figure(figsize = (10, 8))\n",
        "sns.heatmap(data.corr(), annot = True)"
      ],
      "execution_count": null,
      "outputs": [
        {
          "output_type": "execute_result",
          "data": {
            "text/plain": [
              "<matplotlib.axes._subplots.AxesSubplot at 0x7fbb2c3a0ad0>"
            ]
          },
          "metadata": {},
          "execution_count": 89
        },
        {
          "output_type": "display_data",
          "data": {
            "image/png": "[encoded data removed]",
            "text/plain": [
              "<Figure size 720x576 with 2 Axes>"
            ]
          },
          "metadata": {
            "needs_background": "light"
          }
        }
      ]
    },
    {
      "cell_type": "code",
      "metadata": {
        "id": "3rKM69lTYvBT"
      },
      "source": [
        ""
      ],
      "execution_count": null,
      "outputs": []
    }
  ]
}